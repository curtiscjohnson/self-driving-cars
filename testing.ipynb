{
 "cells": [
  {
   "cell_type": "code",
   "execution_count": 1,
   "metadata": {},
   "outputs": [],
   "source": [
    "import numpy as np\n",
    "import cv2 as cv\n",
    "import matplotlib.pyplot as plt"
   ]
  },
  {
   "cell_type": "code",
   "execution_count": 61,
   "metadata": {},
   "outputs": [
    {
     "data": {
      "text/plain": [
       "<matplotlib.image.AxesImage at 0x7f4fb1b72a10>"
      ]
     },
     "execution_count": 61,
     "metadata": {},
     "output_type": "execute_result"
    },
    {
     "data": {
      "image/png": "[encoded data removed]",
      "text/plain": [
       "<Figure size 640x480 with 1 Axes>"
      ]
     },
     "metadata": {},
     "output_type": "display_data"
    }
   ],
   "source": [
    "img = cv.imread('./sim_testing_images/at_stop.png')\n",
    "rgb_img = cv.cvtColor(img, cv.COLOR_BGR2RGB)\n",
    "\n",
    "plt.imshow(rgb_img)\n"
   ]
  },
  {
   "cell_type": "code",
   "execution_count": 65,
   "metadata": {},
   "outputs": [],
   "source": [
    "def get_yellow_blob_centers(bgr_img):\n",
    "    rgb_img = cv.cvtColor(img, cv.COLOR_BGR2RGB)\n",
    "    # Get grayscale image with only centerline (yellow colors)\n",
    "    lower_yellow = np.array([240,240,0])\n",
    "    upper_yellow = np.array([255,255,0])\n",
    "    centerline_gray_img = cv.inRange(rgb_img, lower_yellow, upper_yellow) # get only yellow colors in image\n",
    "    \n",
    "    # Get Contours for center line blobs\n",
    "    contours, hierarchy = cv.findContours(centerline_gray_img, cv.RETR_TREE, cv.CHAIN_APPROX_SIMPLE)\n",
    "    centers = []\n",
    "    for i in contours:\n",
    "        M = cv.moments(i)\n",
    "        if M['m00'] != 0:\n",
    "            cx = int(M['m10']/M['m00'])\n",
    "            cy = int(M['m01']/M['m00'])\n",
    "            if cy > rgb_img.shape[0]//2:\n",
    "                cv.drawContours(rgb_img, [i], -1, (0,255,0), 2)\n",
    "                cv.circle(rgb_img, (cx, cy), 7, (0, 0, 255), -1)\n",
    "                centers.append((cx, cy))\n",
    "                # print(f\"x: {cx}, y: {cy}\")\n",
    "\n",
    "    return centers\n",
    "\n",
    "def get_red_blob_centers(bgr_img):\n",
    "    rgb_img = cv.cvtColor(img, cv.COLOR_BGR2RGB)\n",
    "    # Get grayscale image with only centerline (yellow colors)\n",
    "    lower_red = np.array([240,0,0])\n",
    "    upper_red = np.array([255,0,0])\n",
    "    stopline_gray_img = cv.inRange(rgb_img, lower_red, upper_red) # get only yellow colors in image\n",
    "    \n",
    "    # Get Contours for center line blobs\n",
    "    contours, hierarchy = cv.findContours(stopline_gray_img, cv.RETR_TREE, cv.CHAIN_APPROX_SIMPLE)\n",
    "    centers = []\n",
    "    for i in contours:\n",
    "        M = cv.moments(i)\n",
    "        if M['m00'] != 0:\n",
    "            cx = int(M['m10']/M['m00'])\n",
    "            cy = int(M['m01']/M['m00'])\n",
    "            if cx > rgb_img.shape[1]/4 and cx < rgb_img.shape[1]*3/4 and cy > rgb_img.shape[0]/2:\n",
    "                cv.drawContours(rgb_img, [i], -1, (0,255,0), 2)\n",
    "                cv.circle(rgb_img, (cx, cy), 7, (0, 0, 255), -1)\n",
    "                centers.append((cx, cy))\n",
    "                # print(f\"x: {cx}, y: {cy}\")\n",
    "\n",
    "    return centers\n"
   ]
  },
  {
   "cell_type": "code",
   "execution_count": 39,
   "metadata": {},
   "outputs": [
    {
     "name": "stdout",
     "output_type": "stream",
     "text": [
      "[(491, 195), (404, 192), (403, 186)]\n"
     ]
    }
   ],
   "source": [
    "centers = get__yellow_blob_centers(img)\n",
    "\n"
   ]
  },
  {
   "cell_type": "markdown",
   "metadata": {},
   "source": [
    "# PID Control "
   ]
  },
  {
   "cell_type": "code",
   "execution_count": 5,
   "metadata": {},
   "outputs": [
    {
     "name": "stdout",
     "output_type": "stream",
     "text": [
      "setpoint: 461\n",
      "input: 368\n",
      "-9.3\n",
      "PID(Kp=-0.1, Ki=-0.0, Kd=-0.0, setpoint=461, sample_time=0.03333333333333333, output_limits=(-30, 30), auto_mode=True, proportional_on_measurement=False, differetial_on_measurement=True, error_map=None)\n"
     ]
    }
   ],
   "source": [
    "from simple_pid import PID\n",
    "\n",
    "pid = PID()\n",
    "pid.Ki = -.01*0\n",
    "pid.Kd = -.5*1\n",
    "pid.Kp = -30/300 #degrees per pixel\n",
    "pid.sample_time = 1/30.0\n",
    "pid.output_limits = (-30,30)\n",
    "\n",
    "\n",
    "#set point is the desired location of the blob we are trying to follow\n",
    "#find blob closest to car (bottom of camera aview)\n",
    "centers.sort(key = lambda x: x[1])\n",
    "blobToFollowCoords = centers[-1]\n",
    "\n",
    "#get image coords\n",
    "desXCoord = rgb_img.shape[1]//2\n",
    "print(f\"setpoint: {desXCoord}\")\n",
    "pid.setpoint = desXCoord\n",
    "\n",
    "steeringAngle = pid(blobToFollowCoords[0])\n",
    "print(f\"input: {blobToFollowCoords[0]}\")\n",
    "print(steeringAngle)\n"
   ]
  },
  {
   "cell_type": "code",
   "execution_count": 66,
   "metadata": {},
   "outputs": [
    {
     "name": "stdout",
     "output_type": "stream",
     "text": [
      "[(303, 271)]\n",
      "setpoint: 823\n",
      "input: 483\n",
      "1.7\n"
     ]
    }
   ],
   "source": [
    "# PID for speed\n",
    "from simple_pid import PID\n",
    "\n",
    "red_centers = get_red_blob_centers(img)\n",
    "print(red_centers)\n",
    "pid = PID()\n",
    "pid.Ki = -.01*0\n",
    "pid.Kd = -.5*0\n",
    "pid.Kp = 2/400 # speed per pixel\n",
    "pid.sample_time = 1/30.0\n",
    "pid.output_limits = (0.0, 2.0)\n",
    "\n",
    "#set point is the desired location of the blob we are trying to follow\n",
    "#find blob closest to car (bottom of camera aview)\n",
    "if len(red_centers) != 0:\n",
    "    red_centers.sort(key = lambda x: x[0])\n",
    "    stopLineCoords = red_centers[-1]\n",
    "\n",
    "    #get image coords\n",
    "    desDist = rgb_img.shape[1]-100\n",
    "    print(f\"setpoint: {desDist}\")\n",
    "    pid.setpoint = desDist\n",
    "\n",
    "    speed = pid(blobToFollowCoords[1])\n",
    "\n",
    "    print(f\"input: {blobToFollowCoords[1]}\")\n",
    "    print(speed)\n"
   ]
  },
  {
   "cell_type": "markdown",
   "metadata": {},
   "source": [
    "# Average Blobbing"
   ]
  },
  {
   "cell_type": "code",
   "execution_count": null,
   "metadata": {},
   "outputs": [],
   "source": [
    "img = cv.imread('./sim_testing_images/straight_before_turn.png')\n"
   ]
  }
 ],
 "metadata": {
  "kernelspec": {
   "display_name": "Python 3.10.4 64-bit",
   "language": "python",
   "name": "python3"
  },
  "language_info": {
   "codemirror_mode": {
    "name": "ipython",
    "version": 3
   },
   "file_extension": ".py",
   "mimetype": "text/x-python",
   "name": "python",
   "nbconvert_exporter": "python",
   "pygments_lexer": "ipython3",
   "version": "3.10.4"
  },
  "orig_nbformat": 4,
  "vscode": {
   "interpreter": {
    "hash": "767d51c1340bd893661ea55ea3124f6de3c7a262a8b4abca0554b478b1e2ff90"
   }
  }
 },
 "nbformat": 4,
 "nbformat_minor": 2
}
